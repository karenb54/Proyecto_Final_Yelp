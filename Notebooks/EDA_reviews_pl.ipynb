{
 "cells": [
  {
   "cell_type": "code",
   "execution_count": 2,
   "id": "54f46b67-82ee-4a2b-90fe-f803f12270a0",
   "metadata": {},
   "outputs": [],
   "source": [
    "import polars as pl\n",
    "import glob"
   ]
  },
  {
   "cell_type": "code",
   "execution_count": 2,
   "id": "cd050743-17af-4ed9-b091-e28226ca71c3",
   "metadata": {},
   "outputs": [],
   "source": [
    "file = glob.glob('./reviewETL/*.parquet')"
   ]
  },
  {
   "cell_type": "code",
   "execution_count": 3,
   "id": "2e0cf219-04c4-4b10-8be3-738973709c47",
   "metadata": {},
   "outputs": [],
   "source": [
    "df_lazy = pl.scan_parquet(file)"
   ]
  },
  {
   "cell_type": "code",
   "execution_count": 4,
   "id": "96d59855-b154-4a0c-82ae-419beb750dbc",
   "metadata": {},
   "outputs": [
    {
     "name": "stdout",
     "output_type": "stream",
     "text": [
      "shape: (1, 1)\n",
      "┌──────────┐\n",
      "│ len      │\n",
      "│ ---      │\n",
      "│ u32      │\n",
      "╞══════════╡\n",
      "│ 88487947 │\n",
      "└──────────┘\n"
     ]
    }
   ],
   "source": [
    "conteo_total = df_lazy.select(pl.len()).collect()\n",
    "print(conteo_total)\n"
   ]
  },
  {
   "cell_type": "code",
   "execution_count": 5,
   "id": "e7f789b4-893f-4459-aa30-71a097509cae",
   "metadata": {},
   "outputs": [
    {
     "data": {
      "text/plain": [
       "Schema([('gmap_id', String),\n",
       "        ('name', String),\n",
       "        ('rating', Int64),\n",
       "        ('resp', Struct({'text': String, 'time': Int64})),\n",
       "        ('text', String),\n",
       "        ('time', Int64),\n",
       "        ('user_id', String),\n",
       "        ('fecha', Datetime(time_unit='ns', time_zone=None)),\n",
       "        ('año', Int32),\n",
       "        ('id_rev', String)])"
      ]
     },
     "execution_count": 5,
     "metadata": {},
     "output_type": "execute_result"
    }
   ],
   "source": [
    "df_lazy.collect_schema()"
   ]
  },
  {
   "cell_type": "code",
   "execution_count": 6,
   "id": "486e0588-343e-4d29-91f5-ccf1aa9675d5",
   "metadata": {},
   "outputs": [
    {
     "name": "stdout",
     "output_type": "stream",
     "text": [
      "shape: (24, 2)\n",
      "┌──────┬──────────┐\n",
      "│ año  ┆ cantidad │\n",
      "│ ---  ┆ ---      │\n",
      "│ i32  ┆ u32      │\n",
      "╞══════╪══════════╡\n",
      "│ 1990 ┆ 44       │\n",
      "│ 1999 ┆ 2        │\n",
      "│ 2000 ┆ 2        │\n",
      "│ 2001 ┆ 3        │\n",
      "│ 2002 ┆ 33       │\n",
      "│ …    ┆ …        │\n",
      "│ 2017 ┆ 11306406 │\n",
      "│ 2018 ┆ 21361698 │\n",
      "│ 2019 ┆ 27100727 │\n",
      "│ 2020 ┆ 16547480 │\n",
      "│ 2021 ┆ 8122853  │\n",
      "└──────┴──────────┘\n"
     ]
    }
   ],
   "source": [
    "df_anual = df_lazy.group_by('año').agg(pl.col('año').count().alias('cantidad')).collect()\n",
    "\n",
    "# Mostrar el resultado\n",
    "print(df_anual.sort('año'))"
   ]
  },
  {
   "cell_type": "code",
   "execution_count": 7,
   "id": "323e9595-8bb7-47a9-8dd0-839247aa5e72",
   "metadata": {},
   "outputs": [],
   "source": [
    "import seaborn as sns\n",
    "import matplotlib.pyplot as plt\n"
   ]
  },
  {
   "cell_type": "code",
   "execution_count": 8,
   "id": "7e6e7c58-cabe-4dec-92cc-a3df6be46081",
   "metadata": {},
   "outputs": [
    {
     "data": {
      "image/png": "[encoded data removed]",
      "text/plain": [
       "<Figure size 640x480 with 1 Axes>"
      ]
     },
     "metadata": {},
     "output_type": "display_data"
    }
   ],
   "source": [
    "sns.barplot(x='año', y= df_anual['cantidad']/1000000,data=df_anual)\n",
    "plt.ylabel('Cantidad de reviews en millones')\n",
    "plt.xticks(rotation=45)\n",
    "plt.show()"
   ]
  },
  {
   "cell_type": "code",
   "execution_count": 9,
   "id": "5095cb53-2f11-4638-8522-024716235157",
   "metadata": {},
   "outputs": [],
   "source": [
    "from pyspark.sql import SparkSession\n",
    "from pyspark import SparkContext\n",
    "#import glob\n"
   ]
  },
  {
   "cell_type": "code",
   "execution_count": 10,
   "id": "88215344-7dc0-4a7e-8ce7-44e12a488c76",
   "metadata": {},
   "outputs": [
    {
     "name": "stderr",
     "output_type": "stream",
     "text": [
      "24/11/05 19:52:08 WARN Utils: Your hostname, hugo-81we resolves to a loopback address: 127.0.1.1; using 10.203.71.211 instead (on interface wlp0s20f3)\n",
      "24/11/05 19:52:08 WARN Utils: Set SPARK_LOCAL_IP if you need to bind to another address\n",
      "Setting default log level to \"WARN\".\n",
      "To adjust logging level use sc.setLogLevel(newLevel). For SparkR, use setLogLevel(newLevel).\n",
      "24/11/05 19:52:09 WARN NativeCodeLoader: Unable to load native-hadoop library for your platform... using builtin-java classes where applicable\n",
      "24/11/05 19:52:09 WARN SparkConf: Note that spark.local.dir will be overridden by the value set by the cluster manager (via SPARK_LOCAL_DIRS in mesos/standalone/kubernetes and LOCAL_DIRS in YARN).\n",
      "24/11/05 19:52:09 WARN Utils: Service 'SparkUI' could not bind on port 4040. Attempting port 4041.\n"
     ]
    }
   ],
   "source": [
    "#Crear sesión de spark\n",
    "spk = SparkSession.builder \\\n",
    "    .config(\"spark.driver.port\", \"4040\") \\\n",
    "    .config(\"spark.local.dir\", \"/run/media/hugo/06368a0d-700b-4ac5-9159-173c295dcaed/\") \\\n",
    "    .config(\"spark.hadoop.fs.defaultFS\", \"file:///run/media/hugo/06368a0d-700b-4ac5-9159-173c295dcaed/\") \\\n",
    "    .master(\"local[*]\") \\\n",
    "    .appName(\"EDAReview\") \\\n",
    "    .getOrCreate()\n",
    "spk.sparkContext.setLogLevel(\"ERROR\")"
   ]
  },
  {
   "cell_type": "code",
   "execution_count": 11,
   "id": "31e0b334-e6ef-4d31-aec9-972d91c33637",
   "metadata": {},
   "outputs": [
    {
     "name": "stderr",
     "output_type": "stream",
     "text": [
      "                                                                                \r"
     ]
    }
   ],
   "source": [
    "df_spk = spk.read.parquet('reviewETL')"
   ]
  },
  {
   "cell_type": "code",
   "execution_count": 12,
   "id": "4cafde13-81af-4bcb-913c-a78be60a9388",
   "metadata": {},
   "outputs": [],
   "source": [
    "df_spk = df_spk.filter(df_spk['text'] != 'nd')"
   ]
  },
  {
   "cell_type": "code",
   "execution_count": 13,
   "id": "4b73b264-8a62-4e18-b4d1-d200a1f58fd0",
   "metadata": {},
   "outputs": [
    {
     "name": "stderr",
     "output_type": "stream",
     "text": [
      "                                                                                \r"
     ]
    },
    {
     "data": {
      "text/plain": [
       "49278065"
      ]
     },
     "execution_count": 13,
     "metadata": {},
     "output_type": "execute_result"
    }
   ],
   "source": [
    "df_spk.count()"
   ]
  },
  {
   "cell_type": "code",
   "execution_count": 14,
   "id": "d97a8c80-d3cc-43b2-aead-2ed860fb28cf",
   "metadata": {},
   "outputs": [
    {
     "name": "stderr",
     "output_type": "stream",
     "text": [
      "                                                                                \r"
     ]
    },
    {
     "ename": "InvalidOperationError",
     "evalue": "directory contained paths with different file extensions: \\\n                first path: data.parquet/._SUCCESS.crc, second path: data.parquet/part-00000-d2513b1e-57c8-4f00-ad2b-46de753acfda-c000.snappy.parquet. Please use a glob pattern to explicitly specify \\\n                which files to read (e.g. \"dir/**/*\", \"dir/**/*.parquet\")",
     "output_type": "error",
     "traceback": [
      "\u001b[0;31m---------------------------------------------------------------------------\u001b[0m",
      "\u001b[0;31mInvalidOperationError\u001b[0m                     Traceback (most recent call last)",
      "Cell \u001b[0;32mIn[14], line 5\u001b[0m\n\u001b[1;32m      2\u001b[0m df_spk\u001b[38;5;241m.\u001b[39mwrite\u001b[38;5;241m.\u001b[39mparquet(\u001b[38;5;124m\"\u001b[39m\u001b[38;5;124mdata.parquet\u001b[39m\u001b[38;5;124m\"\u001b[39m)\n\u001b[1;32m      4\u001b[0m \u001b[38;5;66;03m# Leer el archivo Parquet con Polars\u001b[39;00m\n\u001b[0;32m----> 5\u001b[0m df_polars \u001b[38;5;241m=\u001b[39m \u001b[43mpl\u001b[49m\u001b[38;5;241;43m.\u001b[39;49m\u001b[43mread_parquet\u001b[49m\u001b[43m(\u001b[49m\u001b[38;5;124;43m\"\u001b[39;49m\u001b[38;5;124;43mdata.parquet\u001b[39;49m\u001b[38;5;124;43m\"\u001b[39;49m\u001b[43m)\u001b[49m\n\u001b[1;32m      7\u001b[0m \u001b[38;5;28mprint\u001b[39m(df_polars)\n",
      "File \u001b[0;32m~/venv/lib/python3.12/site-packages/polars/_utils/deprecation.py:92\u001b[0m, in \u001b[0;36mdeprecate_renamed_parameter.<locals>.decorate.<locals>.wrapper\u001b[0;34m(*args, **kwargs)\u001b[0m\n\u001b[1;32m     87\u001b[0m \u001b[38;5;129m@wraps\u001b[39m(function)\n\u001b[1;32m     88\u001b[0m \u001b[38;5;28;01mdef\u001b[39;00m \u001b[38;5;21mwrapper\u001b[39m(\u001b[38;5;241m*\u001b[39margs: P\u001b[38;5;241m.\u001b[39margs, \u001b[38;5;241m*\u001b[39m\u001b[38;5;241m*\u001b[39mkwargs: P\u001b[38;5;241m.\u001b[39mkwargs) \u001b[38;5;241m-\u001b[39m\u001b[38;5;241m>\u001b[39m T:\n\u001b[1;32m     89\u001b[0m     _rename_keyword_argument(\n\u001b[1;32m     90\u001b[0m         old_name, new_name, kwargs, function\u001b[38;5;241m.\u001b[39m\u001b[38;5;18m__qualname__\u001b[39m, version\n\u001b[1;32m     91\u001b[0m     )\n\u001b[0;32m---> 92\u001b[0m     \u001b[38;5;28;01mreturn\u001b[39;00m \u001b[43mfunction\u001b[49m\u001b[43m(\u001b[49m\u001b[38;5;241;43m*\u001b[39;49m\u001b[43margs\u001b[49m\u001b[43m,\u001b[49m\u001b[43m \u001b[49m\u001b[38;5;241;43m*\u001b[39;49m\u001b[38;5;241;43m*\u001b[39;49m\u001b[43mkwargs\u001b[49m\u001b[43m)\u001b[49m\n",
      "File \u001b[0;32m~/venv/lib/python3.12/site-packages/polars/_utils/deprecation.py:92\u001b[0m, in \u001b[0;36mdeprecate_renamed_parameter.<locals>.decorate.<locals>.wrapper\u001b[0;34m(*args, **kwargs)\u001b[0m\n\u001b[1;32m     87\u001b[0m \u001b[38;5;129m@wraps\u001b[39m(function)\n\u001b[1;32m     88\u001b[0m \u001b[38;5;28;01mdef\u001b[39;00m \u001b[38;5;21mwrapper\u001b[39m(\u001b[38;5;241m*\u001b[39margs: P\u001b[38;5;241m.\u001b[39margs, \u001b[38;5;241m*\u001b[39m\u001b[38;5;241m*\u001b[39mkwargs: P\u001b[38;5;241m.\u001b[39mkwargs) \u001b[38;5;241m-\u001b[39m\u001b[38;5;241m>\u001b[39m T:\n\u001b[1;32m     89\u001b[0m     _rename_keyword_argument(\n\u001b[1;32m     90\u001b[0m         old_name, new_name, kwargs, function\u001b[38;5;241m.\u001b[39m\u001b[38;5;18m__qualname__\u001b[39m, version\n\u001b[1;32m     91\u001b[0m     )\n\u001b[0;32m---> 92\u001b[0m     \u001b[38;5;28;01mreturn\u001b[39;00m \u001b[43mfunction\u001b[49m\u001b[43m(\u001b[49m\u001b[38;5;241;43m*\u001b[39;49m\u001b[43margs\u001b[49m\u001b[43m,\u001b[49m\u001b[43m \u001b[49m\u001b[38;5;241;43m*\u001b[39;49m\u001b[38;5;241;43m*\u001b[39;49m\u001b[43mkwargs\u001b[49m\u001b[43m)\u001b[49m\n",
      "File \u001b[0;32m~/venv/lib/python3.12/site-packages/polars/io/parquet/functions.py:239\u001b[0m, in \u001b[0;36mread_parquet\u001b[0;34m(source, columns, n_rows, row_index_name, row_index_offset, parallel, use_statistics, hive_partitioning, glob, schema, hive_schema, try_parse_hive_dates, rechunk, low_memory, storage_options, retries, use_pyarrow, pyarrow_options, memory_map, include_file_paths, allow_missing_columns)\u001b[0m\n\u001b[1;32m    236\u001b[0m     \u001b[38;5;28;01melse\u001b[39;00m:\n\u001b[1;32m    237\u001b[0m         lf \u001b[38;5;241m=\u001b[39m lf\u001b[38;5;241m.\u001b[39mselect(columns)\n\u001b[0;32m--> 239\u001b[0m \u001b[38;5;28;01mreturn\u001b[39;00m \u001b[43mlf\u001b[49m\u001b[38;5;241;43m.\u001b[39;49m\u001b[43mcollect\u001b[49m\u001b[43m(\u001b[49m\u001b[43m)\u001b[49m\n",
      "File \u001b[0;32m~/venv/lib/python3.12/site-packages/polars/lazyframe/frame.py:2055\u001b[0m, in \u001b[0;36mLazyFrame.collect\u001b[0;34m(self, type_coercion, predicate_pushdown, projection_pushdown, simplify_expression, slice_pushdown, comm_subplan_elim, comm_subexpr_elim, cluster_with_columns, collapse_joins, no_optimization, streaming, engine, background, _eager, **_kwargs)\u001b[0m\n\u001b[1;32m   2053\u001b[0m \u001b[38;5;66;03m# Only for testing purposes\u001b[39;00m\n\u001b[1;32m   2054\u001b[0m callback \u001b[38;5;241m=\u001b[39m _kwargs\u001b[38;5;241m.\u001b[39mget(\u001b[38;5;124m\"\u001b[39m\u001b[38;5;124mpost_opt_callback\u001b[39m\u001b[38;5;124m\"\u001b[39m, callback)\n\u001b[0;32m-> 2055\u001b[0m \u001b[38;5;28;01mreturn\u001b[39;00m wrap_df(\u001b[43mldf\u001b[49m\u001b[38;5;241;43m.\u001b[39;49m\u001b[43mcollect\u001b[49m\u001b[43m(\u001b[49m\u001b[43mcallback\u001b[49m\u001b[43m)\u001b[49m)\n",
      "\u001b[0;31mInvalidOperationError\u001b[0m: directory contained paths with different file extensions: \\\n                first path: data.parquet/._SUCCESS.crc, second path: data.parquet/part-00000-d2513b1e-57c8-4f00-ad2b-46de753acfda-c000.snappy.parquet. Please use a glob pattern to explicitly specify \\\n                which files to read (e.g. \"dir/**/*\", \"dir/**/*.parquet\")"
     ]
    }
   ],
   "source": [
    "# Guardar el DataFrame de PySpark en un archivo Parquet\n",
    "df_spk.write.parquet(\"data.parquet\")\n"
   ]
  },
  {
   "cell_type": "code",
   "execution_count": 4,
   "id": "5599eb3e-3314-4569-b3b3-6a9c9fbb1882",
   "metadata": {},
   "outputs": [],
   "source": [
    "files = glob.glob('./data.parquet/*.parquet')\n",
    "# Leer el archivo Parquet con Polars\n",
    "df_polars = pl.scan_parquet(files)"
   ]
  },
  {
   "cell_type": "code",
   "execution_count": 11,
   "id": "29964222-ab6c-45c0-b14a-0348b620b8b5",
   "metadata": {},
   "outputs": [
    {
     "ename": "ModuleNotFoundError",
     "evalue": "No module named 'spacy'",
     "output_type": "error",
     "traceback": [
      "\u001b[0;31m---------------------------------------------------------------------------\u001b[0m",
      "\u001b[0;31mModuleNotFoundError\u001b[0m                       Traceback (most recent call last)",
      "Cell \u001b[0;32mIn[11], line 1\u001b[0m\n\u001b[0;32m----> 1\u001b[0m \u001b[38;5;28;01mimport\u001b[39;00m \u001b[38;5;21;01mspacy\u001b[39;00m\n",
      "\u001b[0;31mModuleNotFoundError\u001b[0m: No module named 'spacy'"
     ]
    }
   ],
   "source": [
    "import spacy"
   ]
  },
  {
   "cell_type": "code",
   "execution_count": null,
   "id": "1141079a-0386-4290-95f4-ec797ad20035",
   "metadata": {},
   "outputs": [],
   "source": []
  },
  {
   "cell_type": "code",
   "execution_count": null,
   "id": "2e32c838-1e5f-439e-afc9-4df3c0e25126",
   "metadata": {},
   "outputs": [],
   "source": []
  },
  {
   "cell_type": "code",
   "execution_count": null,
   "id": "38a19c21-ba36-4055-94e9-f3d9bf647b6c",
   "metadata": {},
   "outputs": [],
   "source": []
  },
  {
   "cell_type": "code",
   "execution_count": null,
   "id": "5abf3847-3e65-44d9-b791-2772e732d50f",
   "metadata": {},
   "outputs": [],
   "source": []
  },
  {
   "cell_type": "code",
   "execution_count": 3,
   "id": "36651587-6b68-4197-807e-a630901ae388",
   "metadata": {},
   "outputs": [
    {
     "name": "stderr",
     "output_type": "stream",
     "text": [
      "[nltk_data] Downloading package punkt to /home/hugo/nltk_data...\n",
      "[nltk_data]   Package punkt is already up-to-date!\n",
      "[nltk_data] Downloading package punkt_tab to /home/hugo/nltk_data...\n",
      "[nltk_data]   Package punkt_tab is already up-to-date!\n"
     ]
    },
    {
     "data": {
      "text/plain": [
       "True"
      ]
     },
     "execution_count": 3,
     "metadata": {},
     "output_type": "execute_result"
    }
   ],
   "source": [
    "import nltk\n",
    "from nltk.tokenize import word_tokenize\n",
    "\n",
    "nltk.download('punkt')\n",
    "nltk.download('punkt_tab')"
   ]
  },
  {
   "cell_type": "code",
   "execution_count": 5,
   "id": "1438b02a-54f9-4535-b18c-590ae684753d",
   "metadata": {},
   "outputs": [],
   "source": [
    "stopwords = nltk.corpus.stopwords.words('english') # Carga las stopwords en inglés"
   ]
  },
  {
   "cell_type": "code",
   "execution_count": 6,
   "id": "fefa3e5f-3796-4df7-8b67-2ec77fa550d6",
   "metadata": {},
   "outputs": [],
   "source": [
    "import re \n",
    "\n",
    "from nltk.stem import PorterStemmer\n",
    "stemmer = PorterStemmer()"
   ]
  },
  {
   "cell_type": "code",
   "execution_count": 10,
   "id": "775f1a90-5e44-4f8b-96d8-d5d0c62c99ac",
   "metadata": {},
   "outputs": [
    {
     "ename": "AttributeError",
     "evalue": "'Expr' object has no attribute 'map'",
     "output_type": "error",
     "traceback": [
      "\u001b[0;31m---------------------------------------------------------------------------\u001b[0m",
      "\u001b[0;31mAttributeError\u001b[0m                            Traceback (most recent call last)",
      "Cell \u001b[0;32mIn[10], line 20\u001b[0m\n\u001b[1;32m     16\u001b[0m     \u001b[38;5;28;01mreturn\u001b[39;00m \u001b[38;5;124m\"\u001b[39m\u001b[38;5;124m \u001b[39m\u001b[38;5;124m\"\u001b[39m\u001b[38;5;241m.\u001b[39mjoin(texto)\n\u001b[1;32m     18\u001b[0m \u001b[38;5;66;03m# Aplicar la función con apply() en modo lazy\u001b[39;00m\n\u001b[1;32m     19\u001b[0m df_polars \u001b[38;5;241m=\u001b[39m df_polars\u001b[38;5;241m.\u001b[39mwith_columns(\n\u001b[0;32m---> 20\u001b[0m     \u001b[43mpl\u001b[49m\u001b[38;5;241;43m.\u001b[39;49m\u001b[43mcol\u001b[49m\u001b[43m(\u001b[49m\u001b[38;5;124;43m\"\u001b[39;49m\u001b[38;5;124;43mtext\u001b[39;49m\u001b[38;5;124;43m\"\u001b[39;49m\u001b[43m)\u001b[49m\u001b[38;5;241;43m.\u001b[39;49m\u001b[43mmap\u001b[49m(procesar_texto)\u001b[38;5;241m.\u001b[39malias(\u001b[38;5;124m\"\u001b[39m\u001b[38;5;124mtext0\u001b[39m\u001b[38;5;124m\"\u001b[39m)\n\u001b[1;32m     21\u001b[0m )\n\u001b[1;32m     23\u001b[0m \u001b[38;5;66;03m# Materializar el resultado\u001b[39;00m\n\u001b[1;32m     24\u001b[0m df_resultado \u001b[38;5;241m=\u001b[39m df_polars\u001b[38;5;241m.\u001b[39mcollect()\n",
      "\u001b[0;31mAttributeError\u001b[0m: 'Expr' object has no attribute 'map'"
     ]
    }
   ],
   "source": [
    "# Función de tokenización y stemming que se aplicará a cada fila\n",
    "def procesar_texto(texto):\n",
    "    # Reemplazar los caracteres que no sean letras por espacios\n",
    "    texto = re.sub(\"[^a-zA-Z]\", \" \", str(texto))\n",
    "    # Pasar todo a minúsculas\n",
    "    texto = texto.lower()\n",
    "    # Tokenizar para separar las palabras\n",
    "    texto = nltk.word_tokenize(texto)\n",
    "    # Eliminar las palabras de menos de 2 letras\n",
    "    texto = [palabra for palabra in texto if len(palabra) > 2]\n",
    "    # Sacar las stopwords\n",
    "    texto = [palabra for palabra in texto if palabra not in stopwords]\n",
    "    # Aplicar stemming\n",
    "    texto = [stemmer.stem(palabra) for palabra in texto]\n",
    "    # Volver a unir el texto\n",
    "    return \" \".join(texto)\n",
    "\n",
    "# Aplicar la función con apply() en modo lazy\n",
    "df_polars = df_polars.with_columns(\n",
    "    pl.col(\"text\").map(procesar_texto).alias(\"text0\")\n",
    ")\n",
    "\n",
    "# Materializar el resultado\n",
    "df_resultado = df_polars.collect()\n",
    "\n",
    "# Imprimir el resultado\n",
    "print(df_resultado)\n"
   ]
  },
  {
   "cell_type": "code",
   "execution_count": 9,
   "id": "cdcc51c6-d65c-4fbb-9192-0007af817c8f",
   "metadata": {},
   "outputs": [
    {
     "data": {
      "text/plain": [
       "Schema([('gmap_id', String),\n",
       "        ('name', String),\n",
       "        ('rating', Int64),\n",
       "        ('resp', Struct({'text': String, 'time': Int64})),\n",
       "        ('text', String),\n",
       "        ('time', Int64),\n",
       "        ('user_id', String),\n",
       "        ('fecha', Datetime(time_unit='ns', time_zone=None)),\n",
       "        ('año', Int32),\n",
       "        ('id_rev', String)])"
      ]
     },
     "execution_count": 9,
     "metadata": {},
     "output_type": "execute_result"
    }
   ],
   "source": [
    "df_polars.collect_schema()"
   ]
  }
 ],
 "metadata": {
  "kernelspec": {
   "display_name": "venv",
   "language": "python",
   "name": "venv"
  },
  "language_info": {
   "codemirror_mode": {
    "name": "ipython",
    "version": 3
   },
   "file_extension": ".py",
   "mimetype": "text/x-python",
   "name": "python",
   "nbconvert_exporter": "python",
   "pygments_lexer": "ipython3",
   "version": "3.12.6"
  }
 },
 "nbformat": 4,
 "nbformat_minor": 5
}
