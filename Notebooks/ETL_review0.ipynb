{
 "cells": [
  {
   "cell_type": "markdown",
   "id": "f6c0ceea-16a9-4674-b4b8-02a4de5cbfb1",
   "metadata": {},
   "source": [
    "# Transformación a Parquet"
   ]
  },
  {
   "cell_type": "code",
   "execution_count": 1,
   "id": "4d033368-0a0c-43d3-9c8d-01c9d49572fe",
   "metadata": {},
   "outputs": [],
   "source": [
    "from pyspark.sql import SparkSession\n",
    "from pyspark import SparkContext\n",
    "import glob"
   ]
  },
  {
   "cell_type": "code",
   "execution_count": 2,
   "id": "ae09d587-ff81-4fab-9e15-08fa4d9fefa1",
   "metadata": {},
   "outputs": [
    {
     "name": "stderr",
     "output_type": "stream",
     "text": [
      "24/11/01 07:27:14 WARN Utils: Your hostname, hugo-81we resolves to a loopback address: 127.0.1.1; using 10.203.144.90 instead (on interface wlp0s20f3)\n",
      "24/11/01 07:27:14 WARN Utils: Set SPARK_LOCAL_IP if you need to bind to another address\n",
      "Setting default log level to \"WARN\".\n",
      "To adjust logging level use sc.setLogLevel(newLevel). For SparkR, use setLogLevel(newLevel).\n",
      "24/11/01 07:27:15 WARN NativeCodeLoader: Unable to load native-hadoop library for your platform... using builtin-java classes where applicable\n",
      "24/11/01 07:27:16 WARN Utils: Service 'SparkUI' could not bind on port 4040. Attempting port 4041.\n",
      "24/11/01 07:27:26 WARN GarbageCollectionMetrics: To enable non-built-in garbage collector(s) List(G1 Concurrent GC), users should configure it(them) to spark.eventLog.gcMetrics.youngGenerationGarbageCollectors or spark.eventLog.gcMetrics.oldGenerationGarbageCollectors\n"
     ]
    }
   ],
   "source": [
    "spk = SparkSession.builder \\\n",
    "    .config(\"spark.driver.port\", \"4040\") \\\n",
    "    .master(\"local[*]\") \\\n",
    "    .appName(\"EDAReview\") \\\n",
    "    .getOrCreate()"
   ]
  },
  {
   "cell_type": "markdown",
   "id": "58832f7d-ed57-46d5-8b44-8b56442f68c4",
   "metadata": {},
   "source": [
    "## Carga de datos"
   ]
  },
  {
   "cell_type": "code",
   "execution_count": 3,
   "id": "c7c2a2c3-f04b-4c8d-a696-1c6b066ef337",
   "metadata": {},
   "outputs": [],
   "source": [
    "file = glob.glob('reviews-estados/**/*.json')"
   ]
  },
  {
   "cell_type": "code",
   "execution_count": null,
   "id": "6e48ea3d-62bc-4e44-9997-96318babe941",
   "metadata": {},
   "outputs": [],
   "source": [
    "df = spk.read.json(file)"
   ]
  },
  {
   "cell_type": "code",
   "execution_count": 8,
   "id": "f667af58-b6b8-4b03-adf9-cdb8592a1fff",
   "metadata": {},
   "outputs": [
    {
     "name": "stdout",
     "output_type": "stream",
     "text": [
      "root\n",
      " |-- gmap_id: string (nullable = true)\n",
      " |-- name: string (nullable = true)\n",
      " |-- pics: array (nullable = true)\n",
      " |    |-- element: struct (containsNull = true)\n",
      " |    |    |-- url: array (nullable = true)\n",
      " |    |    |    |-- element: string (containsNull = true)\n",
      " |-- rating: long (nullable = true)\n",
      " |-- resp: struct (nullable = true)\n",
      " |    |-- text: string (nullable = true)\n",
      " |    |-- time: long (nullable = true)\n",
      " |-- text: string (nullable = true)\n",
      " |-- time: long (nullable = true)\n",
      " |-- user_id: string (nullable = true)\n",
      "\n"
     ]
    }
   ],
   "source": [
    "df.printSchema()"
   ]
  },
  {
   "cell_type": "code",
   "execution_count": 9,
   "id": "71a998ca-b3d3-4016-b3b6-1b8506e93194",
   "metadata": {},
   "outputs": [
    {
     "name": "stderr",
     "output_type": "stream",
     "text": [
      "                                                                                \r"
     ]
    },
    {
     "data": {
      "text/plain": [
       "89946359"
      ]
     },
     "execution_count": 9,
     "metadata": {},
     "output_type": "execute_result"
    }
   ],
   "source": [
    "df.count()"
   ]
  },
  {
   "cell_type": "code",
   "execution_count": null,
   "id": "30c19fb2-e027-42d4-aa89-456e13ea2585",
   "metadata": {},
   "outputs": [],
   "source": [
    "df.filter(df['pics'].isNotNull()).show(5)"
   ]
  },
  {
   "cell_type": "code",
   "execution_count": null,
   "id": "f5c86f05-b2ca-4ea0-a7b6-b1c894a74751",
   "metadata": {},
   "outputs": [],
   "source": [
    "df = df.drop('pics')\n",
    "df.show(5)"
   ]
  },
  {
   "cell_type": "code",
   "execution_count": null,
   "id": "5e9559f9-f1b0-4584-98ca-7fd0f7813dba",
   "metadata": {},
   "outputs": [],
   "source": [
    "from pyspark.sql import functions as F\n",
    "\n",
    "# Convertir la columna de milisegundos a fecha\n",
    "df = df.withColumn('fecha', F.from_unixtime(F.col('time') / 1000).cast('timestamp'))\n",
    "\n",
    "# Mostrar el DataFrame actualizado\n",
    "df.show(5)"
   ]
  },
  {
   "cell_type": "code",
   "execution_count": null,
   "id": "8b1c9147-3e30-44d4-9b50-dfec3e10eb9e",
   "metadata": {},
   "outputs": [],
   "source": [
    "df = df.withColumn('text', F.lower(F.col('text')))"
   ]
  },
  {
   "cell_type": "code",
   "execution_count": null,
   "id": "c737cbcd-9295-4400-8d73-1c7a9fd04446",
   "metadata": {},
   "outputs": [],
   "source": [
    "df = df.withColumn('año', F.year(F.col('fecha')))\n",
    "df.show(5)"
   ]
  },
  {
   "cell_type": "code",
   "execution_count": null,
   "id": "33be882f-3a59-4857-9dcf-bbee18fb2752",
   "metadata": {},
   "outputs": [],
   "source": [
    "df.filter(df['user_id'].isNull()).count()"
   ]
  },
  {
   "cell_type": "code",
   "execution_count": null,
   "id": "11e99878-0856-4bdd-ba1f-e7ccdcc20d1c",
   "metadata": {},
   "outputs": [],
   "source": [
    "df.filter(df['time'].isNull()).count()"
   ]
  },
  {
   "cell_type": "code",
   "execution_count": null,
   "id": "978656b1-676a-40c7-bec5-17529792055d",
   "metadata": {},
   "outputs": [],
   "source": [
    "df.filter(df['text'].isNull()).count()"
   ]
  },
  {
   "cell_type": "code",
   "execution_count": null,
   "id": "79792e23-447f-4d01-b79a-4f7097eb7270",
   "metadata": {},
   "outputs": [],
   "source": [
    "df = df.withColumn('id_rev', F.concat(F.col('user_id'),F.lit('_'), F.col('time')))\n"
   ]
  },
  {
   "cell_type": "code",
   "execution_count": null,
   "id": "a7590827-5830-4875-882a-50181a68bdb1",
   "metadata": {},
   "outputs": [],
   "source": [
    "df_duplicados = df.groupBy('id_rev').count().filter(F.col('count') > 1)\n"
   ]
  },
  {
   "cell_type": "code",
   "execution_count": null,
   "id": "46f6645a-5743-4858-bcb6-db5eea641f14",
   "metadata": {},
   "outputs": [],
   "source": [
    "# Obtener una muestra de 5 datos de la columna 'id_rev' del df de duplicados\n",
    "muestras = df_duplicados.select(\"id_rev\").rdd.map(lambda row: row[0]).takeSample(False, 5)"
   ]
  },
  {
   "cell_type": "code",
   "execution_count": null,
   "id": "4f1c2bf1-ed3e-42c8-9157-c6a40ff4dbc5",
   "metadata": {},
   "outputs": [],
   "source": [
    "# Filtrar el DataFrame\n",
    "df_muestras = df.filter(df['id_rev'].isin(muestras))\n",
    "\n",
    "# Mostrar el DataFrame filtrado\n",
    "df_muestras.show()"
   ]
  },
  {
   "cell_type": "code",
   "execution_count": null,
   "id": "50d161e0-a027-4689-8512-b46dafac4f62",
   "metadata": {},
   "outputs": [],
   "source": [
    "#Eliminar Duplicados\n",
    "df = df.dropDuplicates([\"id_rev\"])"
   ]
  },
  {
   "cell_type": "code",
   "execution_count": null,
   "id": "bcb98eec-e5e1-4969-967c-815bb6883284",
   "metadata": {},
   "outputs": [],
   "source": [
    "df.write.option(\"compression\", \"snappy\").parquet('review')"
   ]
  }
 ],
 "metadata": {
  "kernelspec": {
   "display_name": "venv",
   "language": "python",
   "name": "venv"
  },
  "language_info": {
   "codemirror_mode": {
    "name": "ipython",
    "version": 3
   },
   "file_extension": ".py",
   "mimetype": "text/x-python",
   "name": "python",
   "nbconvert_exporter": "python",
   "pygments_lexer": "ipython3",
   "version": "3.12.6"
  }
 },
 "nbformat": 4,
 "nbformat_minor": 5
}
